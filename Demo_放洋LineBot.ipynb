{
  "cells": [
    {
      "cell_type": "markdown",
      "metadata": {
        "id": "view-in-github",
        "colab_type": "text"
      },
      "source": [
        "<a href=\"https://colab.research.google.com/github/satanjj10/TKB_LineBot/blob/main/Demo_%E6%94%BE%E6%B4%8BLineBot.ipynb\" target=\"_parent\"><img src=\"https://colab.research.google.com/assets/colab-badge.svg\" alt=\"Open In Colab\"/></a>"
      ]
    },
    {
      "cell_type": "code",
      "execution_count": 1,
      "metadata": {
        "colab": {
          "base_uri": "https://localhost:8080/"
        },
        "id": "XxRkIC22f7Fo",
        "outputId": "3098a3d5-50a6-424f-99c0-458a117fa3f1"
      },
      "outputs": [
        {
          "output_type": "stream",
          "name": "stdout",
          "text": [
            "Looking in indexes: https://pypi.org/simple, https://us-python.pkg.dev/colab-wheels/public/simple/\n",
            "Requirement already satisfied: line-bot-sdk in /usr/local/lib/python3.8/dist-packages (2.3.0)\n",
            "Requirement already satisfied: flask in /usr/local/lib/python3.8/dist-packages (1.1.4)\n",
            "Requirement already satisfied: flask-ngrok in /usr/local/lib/python3.8/dist-packages (0.0.25)\n",
            "Requirement already satisfied: google-cloud-logging in /usr/local/lib/python3.8/dist-packages (3.3.1)\n",
            "Requirement already satisfied: future in /usr/local/lib/python3.8/dist-packages (from line-bot-sdk) (0.16.0)\n",
            "Requirement already satisfied: aiohttp>=3.7.4 in /usr/local/lib/python3.8/dist-packages (from line-bot-sdk) (3.8.3)\n",
            "Requirement already satisfied: requests>=2.0 in /usr/local/lib/python3.8/dist-packages (from line-bot-sdk) (2.23.0)\n",
            "Requirement already satisfied: yarl<2.0,>=1.0 in /usr/local/lib/python3.8/dist-packages (from aiohttp>=3.7.4->line-bot-sdk) (1.8.2)\n",
            "Requirement already satisfied: frozenlist>=1.1.1 in /usr/local/lib/python3.8/dist-packages (from aiohttp>=3.7.4->line-bot-sdk) (1.3.3)\n",
            "Requirement already satisfied: async-timeout<5.0,>=4.0.0a3 in /usr/local/lib/python3.8/dist-packages (from aiohttp>=3.7.4->line-bot-sdk) (4.0.2)\n",
            "Requirement already satisfied: charset-normalizer<3.0,>=2.0 in /usr/local/lib/python3.8/dist-packages (from aiohttp>=3.7.4->line-bot-sdk) (2.1.1)\n",
            "Requirement already satisfied: attrs>=17.3.0 in /usr/local/lib/python3.8/dist-packages (from aiohttp>=3.7.4->line-bot-sdk) (22.1.0)\n",
            "Requirement already satisfied: aiosignal>=1.1.2 in /usr/local/lib/python3.8/dist-packages (from aiohttp>=3.7.4->line-bot-sdk) (1.3.1)\n",
            "Requirement already satisfied: multidict<7.0,>=4.5 in /usr/local/lib/python3.8/dist-packages (from aiohttp>=3.7.4->line-bot-sdk) (6.0.3)\n",
            "Requirement already satisfied: idna<3,>=2.5 in /usr/local/lib/python3.8/dist-packages (from requests>=2.0->line-bot-sdk) (2.10)\n",
            "Requirement already satisfied: chardet<4,>=3.0.2 in /usr/local/lib/python3.8/dist-packages (from requests>=2.0->line-bot-sdk) (3.0.4)\n",
            "Requirement already satisfied: certifi>=2017.4.17 in /usr/local/lib/python3.8/dist-packages (from requests>=2.0->line-bot-sdk) (2022.9.24)\n",
            "Requirement already satisfied: urllib3!=1.25.0,!=1.25.1,<1.26,>=1.21.1 in /usr/local/lib/python3.8/dist-packages (from requests>=2.0->line-bot-sdk) (1.24.3)\n",
            "Requirement already satisfied: Werkzeug<2.0,>=0.15 in /usr/local/lib/python3.8/dist-packages (from flask) (1.0.1)\n",
            "Requirement already satisfied: Jinja2<3.0,>=2.10.1 in /usr/local/lib/python3.8/dist-packages (from flask) (2.11.3)\n",
            "Requirement already satisfied: click<8.0,>=5.1 in /usr/local/lib/python3.8/dist-packages (from flask) (7.1.2)\n",
            "Requirement already satisfied: itsdangerous<2.0,>=0.24 in /usr/local/lib/python3.8/dist-packages (from flask) (1.1.0)\n",
            "Requirement already satisfied: MarkupSafe>=0.23 in /usr/local/lib/python3.8/dist-packages (from Jinja2<3.0,>=2.10.1->flask) (2.0.1)\n",
            "Requirement already satisfied: grpc-google-iam-v1<1.0.0dev,>=0.12.4 in /usr/local/lib/python3.8/dist-packages (from google-cloud-logging) (0.12.4)\n",
            "Requirement already satisfied: google-cloud-appengine-logging<2.0.0dev,>=0.1.0 in /usr/local/lib/python3.8/dist-packages (from google-cloud-logging) (1.1.6)\n",
            "Requirement already satisfied: google-cloud-core<3.0.0dev,>=2.0.0 in /usr/local/lib/python3.8/dist-packages (from google-cloud-logging) (2.3.2)\n",
            "Requirement already satisfied: google-cloud-audit-log<1.0.0dev,>=0.1.0 in /usr/local/lib/python3.8/dist-packages (from google-cloud-logging) (0.2.4)\n",
            "Requirement already satisfied: google-api-core[grpc]!=2.0.*,!=2.1.*,!=2.2.*,!=2.3.*,!=2.4.*,!=2.5.*,!=2.6.*,!=2.7.*,<3.0.0dev,>=1.32.0 in /usr/local/lib/python3.8/dist-packages (from google-cloud-logging) (2.8.2)\n",
            "Requirement already satisfied: protobuf!=3.20.0,!=3.20.1,!=4.21.1,!=4.21.2,!=4.21.3,!=4.21.4,!=4.21.5,<5.0.0dev,>=3.19.5 in /usr/local/lib/python3.8/dist-packages (from google-cloud-logging) (3.19.6)\n",
            "Requirement already satisfied: proto-plus<2.0.0dev,>=1.22.0 in /usr/local/lib/python3.8/dist-packages (from google-cloud-logging) (1.22.1)\n",
            "Requirement already satisfied: google-auth<3.0dev,>=1.25.0 in /usr/local/lib/python3.8/dist-packages (from google-api-core[grpc]!=2.0.*,!=2.1.*,!=2.2.*,!=2.3.*,!=2.4.*,!=2.5.*,!=2.6.*,!=2.7.*,<3.0.0dev,>=1.32.0->google-cloud-logging) (2.15.0)\n",
            "Requirement already satisfied: googleapis-common-protos<2.0dev,>=1.56.2 in /usr/local/lib/python3.8/dist-packages (from google-api-core[grpc]!=2.0.*,!=2.1.*,!=2.2.*,!=2.3.*,!=2.4.*,!=2.5.*,!=2.6.*,!=2.7.*,<3.0.0dev,>=1.32.0->google-cloud-logging) (1.57.0)\n",
            "Requirement already satisfied: grpcio-status<2.0dev,>=1.33.2 in /usr/local/lib/python3.8/dist-packages (from google-api-core[grpc]!=2.0.*,!=2.1.*,!=2.2.*,!=2.3.*,!=2.4.*,!=2.5.*,!=2.6.*,!=2.7.*,<3.0.0dev,>=1.32.0->google-cloud-logging) (1.48.2)\n",
            "Requirement already satisfied: grpcio<2.0dev,>=1.33.2 in /usr/local/lib/python3.8/dist-packages (from google-api-core[grpc]!=2.0.*,!=2.1.*,!=2.2.*,!=2.3.*,!=2.4.*,!=2.5.*,!=2.6.*,!=2.7.*,<3.0.0dev,>=1.32.0->google-cloud-logging) (1.51.1)\n",
            "Requirement already satisfied: rsa<5,>=3.1.4 in /usr/local/lib/python3.8/dist-packages (from google-auth<3.0dev,>=1.25.0->google-api-core[grpc]!=2.0.*,!=2.1.*,!=2.2.*,!=2.3.*,!=2.4.*,!=2.5.*,!=2.6.*,!=2.7.*,<3.0.0dev,>=1.32.0->google-cloud-logging) (4.9)\n",
            "Requirement already satisfied: pyasn1-modules>=0.2.1 in /usr/local/lib/python3.8/dist-packages (from google-auth<3.0dev,>=1.25.0->google-api-core[grpc]!=2.0.*,!=2.1.*,!=2.2.*,!=2.3.*,!=2.4.*,!=2.5.*,!=2.6.*,!=2.7.*,<3.0.0dev,>=1.32.0->google-cloud-logging) (0.2.8)\n",
            "Requirement already satisfied: cachetools<6.0,>=2.0.0 in /usr/local/lib/python3.8/dist-packages (from google-auth<3.0dev,>=1.25.0->google-api-core[grpc]!=2.0.*,!=2.1.*,!=2.2.*,!=2.3.*,!=2.4.*,!=2.5.*,!=2.6.*,!=2.7.*,<3.0.0dev,>=1.32.0->google-cloud-logging) (5.2.0)\n",
            "Requirement already satisfied: six>=1.9.0 in /usr/local/lib/python3.8/dist-packages (from google-auth<3.0dev,>=1.25.0->google-api-core[grpc]!=2.0.*,!=2.1.*,!=2.2.*,!=2.3.*,!=2.4.*,!=2.5.*,!=2.6.*,!=2.7.*,<3.0.0dev,>=1.32.0->google-cloud-logging) (1.15.0)\n",
            "Requirement already satisfied: pyasn1<0.5.0,>=0.4.6 in /usr/local/lib/python3.8/dist-packages (from pyasn1-modules>=0.2.1->google-auth<3.0dev,>=1.25.0->google-api-core[grpc]!=2.0.*,!=2.1.*,!=2.2.*,!=2.3.*,!=2.4.*,!=2.5.*,!=2.6.*,!=2.7.*,<3.0.0dev,>=1.32.0->google-cloud-logging) (0.4.8)\n"
          ]
        }
      ],
      "source": [
        "# 此處不動\n",
        "\n",
        "!pip install line-bot-sdk flask flask-ngrok google-cloud-logging\n",
        "\n",
        "from flask import Flask, request, abort, jsonify\n",
        "import json\n",
        "from flask_ngrok import run_with_ngrok\n",
        "\n",
        "from linebot import (\n",
        "    LineBotApi, WebhookHandler\n",
        ")\n",
        "\n",
        "from linebot.exceptions import (\n",
        "    InvalidSignatureError\n",
        ")\n",
        "\n",
        "from linebot.models import *\n",
        "\n",
        "from linebot.models.template import *\n",
        "\n",
        "from linebot.models.template import *\n",
        "\n",
        "from linebot.models import (\n",
        "    MessageEvent, TextMessage, PostbackEvent\n",
        ")\n",
        "import requests\n",
        "import urllib.request\n",
        "import os\n",
        "\n",
        "from linebot.models.events import (\n",
        "    FollowEvent\n",
        ")"
      ]
    },
    {
      "cell_type": "code",
      "execution_count": 2,
      "metadata": {
        "id": "2KMBpxqOgMzy"
      },
      "outputs": [],
      "source": [
        "# 設定Server啟用細節\n",
        "# material為如果要找的到照片，可以建立一個material資料夾，把圖片放入\n",
        "app = Flask(__name__,static_url_path = \"/material\" , static_folder = \"./material/\")\n",
        "run_with_ngrok(app)\n",
        "\n",
        "# 生成實體物件\n",
        "line_bot_api = LineBotApi(\"LG+AB1pEGC4U6qLFXYsbYEADiFYYGjIzSSiPBbwJrhMsEriGRgT1I23t2AIWGkZpX7iQcuT2mFapVSetiKvLuUAx8LuDdTrl/acOcqe7y2U+UEfPfFMgbmQOJUJ5sZA43vJES5nSTfE1qqjTu/cXnQdB04t89/1O/w1cDnyilFU=\")\n",
        "handler = WebhookHandler(\"c7b8231cbb1aec69d8e647b389982f8d\")"
      ]
    },
    {
      "cell_type": "code",
      "execution_count": 3,
      "metadata": {
        "id": "s3dLvJTvgYzB"
      },
      "outputs": [],
      "source": [
        "# 用瀏覽器訪問ngrok的url -> 導引此方法\n",
        "@app.route(\"/callback\", methods=['POST'])\n",
        "\n",
        "def callback():\n",
        "    signature = request.headers['X-Line-Signature']\n",
        "    body = request.get_data(as_text=True)\n",
        "    app.logger.info(\"Request body: \" + body)\n",
        "    print(body)\n",
        "    try:\n",
        "        handler.handle(body, signature)\n",
        "    except InvalidSignatureError:\n",
        "        abort(400)\n",
        "    return 'OK'"
      ]
    },
    {
      "cell_type": "code",
      "execution_count": 4,
      "metadata": {
        "id": "Cn_FQEcygdAg"
      },
      "outputs": [],
      "source": [
        "@handler.add(FollowEvent)\n",
        "def reply_text_and_get_user_profile(event):\n",
        "    user_profile = line_bot_api.get_profile(event.source.user_id)\n",
        "\n",
        "    with open(\"users.txt\", \"a\") as myfile:\n",
        "        myfile.write(json.dumps(vars(user_profile),sort_keys=True))\n",
        "        myfile.write('\\n')\n",
        "\n",
        "        line_bot_api.reply_message(\n",
        "        event.reply_token,\n",
        "        [\n",
        "            TextSendMessage('感謝您加入放洋留遊學！\\n\\n我是XXX(吉祥物)，身為你的專屬客服，讓我來為你解惑吧!\\n\\n這裡會由我公告留遊學最新通知、活動、優惠，也可以和我一對一對話，還可以點選下方打字機圖示，了解更多喔~'),\n",
        "            TextSendMessage('花個10秒鐘，完成以下選單，即可獲得免費資深專家約談喔!\\n\\n先讓我認識你吧~'),\n",
        "            # LocationSendMessage(\n",
        "            #                     title='服務據點',\n",
        "            #                     address='台北市忠孝西路一段 102 號 3F',\n",
        "            #                     latitude=25.04717,\n",
        "            #                     longitude=121.51264),\n",
        "            TemplateSendMessage(\n",
        "                                alt_text='ImageCarousel template',\n",
        "                                template=ImageCarouselTemplate(\n",
        "                                                                columns=[\n",
        "                                                                          ImageCarouselColumn(\n",
        "                                                                          image_url='https://cdn.pixabay.com/photo/2021/11/02/18/58/airline-6763903_1280.png',\n",
        "                                                                          action=MessageAction(\n",
        "                                                                          label='我想去美國',\n",
        "                                                                          text='我想去美國')\n",
        "                                                              ),\n",
        "                                                                          ImageCarouselColumn(\n",
        "                                                                          image_url='https://cdn.pixabay.com/photo/2021/11/02/18/58/airline-6763903_1280.png',\n",
        "                                                                          action=MessageAction(\n",
        "                                                                          label='我想去英國',\n",
        "                                                                          text='我想去英國')\n",
        "                                                              ),\n",
        "                                                                          ImageCarouselColumn(\n",
        "                                                                          image_url='https://cdn.pixabay.com/photo/2021/11/02/18/58/airline-6763903_1280.png',\n",
        "                                                                          action=MessageAction(\n",
        "                                                                          label='我想去澳洲',\n",
        "                                                                          text='我想去澳洲')\n",
        "                                                              ),\n",
        "                                                                          ImageCarouselColumn(\n",
        "                                                                          image_url='https://cdn.pixabay.com/photo/2021/11/02/18/58/airline-6763903_1280.png',\n",
        "                                                                          action=MessageAction(\n",
        "                                                                          label='我想去加拿大',\n",
        "                                                                          text='我想去加拿大')\n",
        "                                                              ),]\n",
        "\n",
        "                                ))\n",
        "         ]\n",
        "    )\n",
        "     "
      ]
    },
    {
      "cell_type": "code",
      "source": [
        "def detect_json_array_to_new_message_array(fileName):    \n",
        "    \n",
        "    #開啟檔案，轉成json\n",
        "    with open(fileName,encoding='utf8') as f:\n",
        "        jsonArray = json.load(f)\n",
        "    \n",
        "    # 解析json\n",
        "    \"\"\"\n",
        "    先做一個空白的array\n",
        "    判斷裡面的json的type，依據type欄位轉換成xxxSendMessage消息物件\n",
        "    append 先前的空白array\n",
        "    \"\"\"\n",
        "    returnArray = []\n",
        "    for jsonObject in jsonArray:\n",
        "\n",
        "        # 讀取其用來判斷的元件\n",
        "        message_type = jsonObject.get('type')\n",
        "        \n",
        "        # 轉換\n",
        "        if message_type == 'text':\n",
        "            returnArray.append(TextSendMessage.new_from_json_dict(jsonObject))\n",
        "        elif message_type == 'imagemap':\n",
        "            returnArray.append(ImagemapSendMessage.new_from_json_dict(jsonObject))\n",
        "        elif message_type == 'template':\n",
        "            returnArray.append(TemplateSendMessage.new_from_json_dict(jsonObject))\n",
        "        elif message_type == 'image':\n",
        "            returnArray.append(ImageSendMessage.new_from_json_dict(jsonObject))\n",
        "        elif message_type == 'sticker':\n",
        "            returnArray.append(StickerSendMessage.new_from_json_dict(jsonObject))  \n",
        "        elif message_type == 'audio':\n",
        "            returnArray.append(AudioSendMessage.new_from_json_dict(jsonObject))  \n",
        "        elif message_type == 'location':\n",
        "            returnArray.append(LocationSendMessage.new_from_json_dict(jsonObject))\n",
        "        elif message_type == 'flex':\n",
        "            returnArray.append(FlexSendMessage.new_from_json_dict(jsonObject))  \n",
        "        elif message_type == 'video':\n",
        "            returnArray.append(VideoSendMessage.new_from_json_dict(jsonObject))    \n",
        "\n",
        "\n",
        "    # 回傳\n",
        "    return returnArray"
      ],
      "metadata": {
        "id": "ZkNgwW74Zery"
      },
      "execution_count": 5,
      "outputs": []
    },
    {
      "cell_type": "code",
      "source": [
        "# 文字消息處理\n",
        "@handler.add(MessageEvent,message=TextMessage)\n",
        "def process_text_message(event):\n",
        "\n",
        "    # 讀取本地檔案，並轉譯成消息\n",
        "    result_message_array =[]\n",
        "\n",
        "    # 用戶輸入文字，就在本地端找相對應的json檔\n",
        "    replyJsonPath = event.message.text+\".json\"\n",
        "    result_message_array = detect_json_array_to_new_message_array(replyJsonPath)\n",
        "\n",
        "    # 發送\n",
        "    line_bot_api.reply_message(\n",
        "        event.reply_token,\n",
        "        result_message_array\n",
        "    )"
      ],
      "metadata": {
        "id": "7oQ-z8hAZ5Ci"
      },
      "execution_count": 6,
      "outputs": []
    },
    {
      "cell_type": "code",
      "source": [
        "import pandas as pd\n",
        "@handler.add(MessageEvent,message=TextMessage)\n",
        "def handle_message(event):\n",
        "    line_user_profile = line_bot_api.get_profile(user_id)\n",
        "    \n",
        "    user_info_df = user_info_df.append(\n",
        "        {\n",
        "          'display_name': line_user_profile.display_name, \n",
        "          'userId': line_user_profile.user_id, \n",
        "          'picture_url': line_user_profile.picture_url,\n",
        "          'status_message': line_user_profile.status_message\n",
        "        },\n",
        "        ignore_index=True)\n",
        "    \n",
        "    if events.get('type') not in ['follow','unfollow','postback']:\n",
        "      df_message = df_message.append(\n",
        "          {\n",
        "            'userId': events.get('source').get('userId'), \n",
        "            'timestamp': events.get('timestamp'), \n",
        "            'event_type': events.get('type'),\n",
        "            'message_type': events.get('message').get('type'),\n",
        "            'message_id': events.get('message').get('id'),\n",
        "            'message_text': events.get('message').get('text')\n",
        "          },\n",
        "          ignore_index=True)\n",
        "    elif events.get('type')  in ['postback']:\n",
        "      df_message =df_message.append(\n",
        "          {\n",
        "            'userId': events.get('source').get('userId'), \n",
        "            'timestamp': events.get('timestamp'), \n",
        "            'event_type': events.get('type'),\n",
        "            'message_text': events.get('postback').get('data')\n",
        "          },\n",
        "          ignore_index=True\n",
        "      )\n",
        "    else:\n",
        "      df_message = df_message.append(\n",
        "          {\n",
        "            'userId': events.get('source').get('userId'), \n",
        "            'timestamp': events.get('timestamp'), \n",
        "            'event_type': events.get('type')\n",
        "          },\n",
        "          ignore_index=True)\n",
        "    \n",
        "    merge_data = pd.merge(df_message, user_info_df)\n",
        "\n",
        "    merge_data.to_csv()"
      ],
      "metadata": {
        "id": "E2b1kIqNkeor"
      },
      "execution_count": 7,
      "outputs": []
    },
    {
      "cell_type": "code",
      "execution_count": 8,
      "metadata": {
        "colab": {
          "base_uri": "https://localhost:8080/"
        },
        "id": "Vx6dLKT9gf-o",
        "outputId": "78543f4a-9286-4244-d339-261b2dd83362"
      },
      "outputs": [
        {
          "output_type": "stream",
          "name": "stdout",
          "text": [
            " * Serving Flask app \"__main__\" (lazy loading)\n",
            " * Environment: production\n",
            "\u001b[31m   WARNING: This is a development server. Do not use it in a production deployment.\u001b[0m\n",
            "\u001b[2m   Use a production WSGI server instead.\u001b[0m\n",
            " * Debug mode: off\n"
          ]
        },
        {
          "output_type": "stream",
          "name": "stderr",
          "text": [
            "INFO:werkzeug: * Running on http://127.0.0.1:5000/ (Press CTRL+C to quit)\n"
          ]
        },
        {
          "output_type": "stream",
          "name": "stdout",
          "text": [
            " * Running on http://f865-35-194-130-71.ngrok.io\n",
            " * Traffic stats available on http://127.0.0.1:4040\n"
          ]
        },
        {
          "output_type": "stream",
          "name": "stderr",
          "text": [
            "INFO:werkzeug:127.0.0.1 - - [14/Dec/2022 09:26:53] \"\u001b[37mPOST /callback HTTP/1.1\u001b[0m\" 200 -\n"
          ]
        },
        {
          "output_type": "stream",
          "name": "stdout",
          "text": [
            "{\"destination\":\"U27545d4bec88860a1fb4b67195c22408\",\"events\":[{\"type\":\"unfollow\",\"webhookEventId\":\"01GM7ZAKSM2T9EFSFT6P232P1N\",\"deliveryContext\":{\"isRedelivery\":false},\"timestamp\":1671010012576,\"source\":{\"type\":\"user\",\"userId\":\"Uf57398b2870127a0567cc1fc518d93e0\"},\"mode\":\"active\"}]}\n",
            "{\"destination\":\"U27545d4bec88860a1fb4b67195c22408\",\"events\":[{\"type\":\"follow\",\"webhookEventId\":\"01GM7ZANB6RF2718FANF33M9V3\",\"deliveryContext\":{\"isRedelivery\":false},\"timestamp\":1671010014323,\"source\":{\"type\":\"user\",\"userId\":\"Uf57398b2870127a0567cc1fc518d93e0\"},\"replyToken\":\"3a5f60512fda4477b2e4be2ef22bd2a4\",\"mode\":\"active\"}]}\n"
          ]
        },
        {
          "output_type": "stream",
          "name": "stderr",
          "text": [
            "INFO:werkzeug:127.0.0.1 - - [14/Dec/2022 09:26:55] \"\u001b[37mPOST /callback HTTP/1.1\u001b[0m\" 200 -\n",
            "ERROR:__main__:Exception on /callback [POST]\n",
            "Traceback (most recent call last):\n",
            "  File \"/usr/local/lib/python3.8/dist-packages/flask/app.py\", line 2447, in wsgi_app\n",
            "    response = self.full_dispatch_request()\n",
            "  File \"/usr/local/lib/python3.8/dist-packages/flask/app.py\", line 1952, in full_dispatch_request\n",
            "    rv = self.handle_user_exception(e)\n",
            "  File \"/usr/local/lib/python3.8/dist-packages/flask/app.py\", line 1821, in handle_user_exception\n",
            "    reraise(exc_type, exc_value, tb)\n",
            "  File \"/usr/local/lib/python3.8/dist-packages/flask/_compat.py\", line 39, in reraise\n",
            "    raise value\n",
            "  File \"/usr/local/lib/python3.8/dist-packages/flask/app.py\", line 1950, in full_dispatch_request\n",
            "    rv = self.dispatch_request()\n",
            "  File \"/usr/local/lib/python3.8/dist-packages/flask/app.py\", line 1936, in dispatch_request\n",
            "    return self.view_functions[rule.endpoint](**req.view_args)\n",
            "  File \"<ipython-input-3-bdcbd9958dc3>\", line 10, in callback\n",
            "    handler.handle(body, signature)\n",
            "  File \"/usr/local/lib/python3.8/dist-packages/linebot/webhook.py\", line 259, in handle\n",
            "    self.__invoke_func(func, event, payload)\n",
            "  File \"/usr/local/lib/python3.8/dist-packages/linebot/webhook.py\", line 271, in __invoke_func\n",
            "    func(event)\n",
            "  File \"<ipython-input-7-27b9d8508141>\", line 4, in handle_message\n",
            "    line_user_profile = line_bot_api.get_profile(user_id)\n",
            "NameError: name 'user_id' is not defined\n",
            "INFO:werkzeug:127.0.0.1 - - [14/Dec/2022 09:27:04] \"\u001b[35m\u001b[1mPOST /callback HTTP/1.1\u001b[0m\" 500 -\n"
          ]
        },
        {
          "output_type": "stream",
          "name": "stdout",
          "text": [
            "{\"destination\":\"U27545d4bec88860a1fb4b67195c22408\",\"events\":[{\"type\":\"message\",\"message\":{\"type\":\"text\",\"id\":\"17293105938054\",\"text\":\"我想去美國\"},\"webhookEventId\":\"01GM7ZAXZQW1Q0EQE3V3BPEX3S\",\"deliveryContext\":{\"isRedelivery\":false},\"timestamp\":1671010023081,\"source\":{\"type\":\"user\",\"userId\":\"Uf57398b2870127a0567cc1fc518d93e0\"},\"replyToken\":\"282fad3f2df341f5ac2d02fabb7b2eb0\",\"mode\":\"active\"}]}\n"
          ]
        }
      ],
      "source": [
        "app.run()"
      ]
    },
    {
      "cell_type": "code",
      "source": [],
      "metadata": {
        "id": "neZXuSDzAPw4"
      },
      "execution_count": 8,
      "outputs": []
    },
    {
      "cell_type": "code",
      "execution_count": 9,
      "metadata": {
        "id": "b9ksaJDyh7XB"
      },
      "outputs": [],
      "source": [
        "# @handler.add(MessageEvent, message=TextMessage)\n",
        "# def handle_message(event):\n",
        "#     message = text=event.message.text\n",
        "#     if (event.message.text.find('我想去美國')== 0):       \n",
        "#         line_bot_api.reply_message(event.reply_token, [\n",
        "#                                                   TemplateSendMessage(                              \n",
        "#                                                                       alt_text='想要留學還是短期遊學?',\n",
        "#                                                                       template=ButtonsTemplate(\n",
        "#                                                                                               title='想要留學還是短期遊學?',\n",
        "#                                                                                               actions=[\n",
        "#                                                                                                   MessageAction(\n",
        "#                                                                                                       label='留學',\n",
        "#                                                                                                       text='我想留學'), \n",
        "#                                                                                                   MessageAction(\n",
        "#                                                                                                       label='短期遊學',\n",
        "#                                                                                                       text='我想遊學'), ]))])\n",
        "\n",
        "\n",
        "#     elif (event.message.text.find('我想留學')== 0):       \n",
        "#         line_bot_api.reply_message(event.reply_token, [\n",
        "#                                                   TemplateSendMessage(\n",
        "#                                                                       alt_text='我的英文程度',\n",
        "#                                                                       template=ButtonsTemplate(\n",
        "#                                                                                                 title='我的英文程度',\n",
        "#                                                                                                 text='請點選以下按鈕',\n",
        "#                                                                                                 actions=[                                                                                            \n",
        "#                                                                                                     MessageAction(\n",
        "#                                                                                                         label='高',\n",
        "#                                                                                                         text='我的英文頂呱呱'),\n",
        "#                                                                                                     MessageAction(\n",
        "#                                                                                                         label='中',\n",
        "#                                                                                                         text='我的英文還可以'),\n",
        "#                                                                                                     MessageAction(\n",
        "#                                                                                                         label='低',\n",
        "#                                                                                                         text='我的英文還需加強'),                                                                                              \n",
        "#                                                                                                  ]))])\n",
        "#     elif (event.message.text.find('我的英文頂呱呱')== 0):       \n",
        "#         line_bot_api.reply_message(event.reply_token, [\n",
        "#                                                   TemplateSendMessage(\n",
        "#                                                                       alt_text='是否確認進入真人諮詢服務?',\n",
        "#                                                                       template=ConfirmTemplate(\n",
        "#                                                                                                 text='是否確認進入真人諮詢服務?',\n",
        "#                                                                                                 actions=[\n",
        "#                                                                                                     MessageAction(\n",
        "#                                                                                                         label='是',\n",
        "#                                                                                                         text='呼叫小編!!!'),\n",
        "#                                                                                                     MessageAction(\n",
        "#                                                                                                         label='否',\n",
        "#                                                                                                         text='請點選下方打字機圖片點選查看更多資訊')\n",
        "#                                                                                                 ]))])"
      ]
    }
  ],
  "metadata": {
    "colab": {
      "provenance": [],
      "authorship_tag": "ABX9TyMeLdAfs8bGTbRZ55ICvkfr",
      "include_colab_link": true
    },
    "kernelspec": {
      "display_name": "Python 3",
      "name": "python3"
    },
    "language_info": {
      "name": "python"
    }
  },
  "nbformat": 4,
  "nbformat_minor": 0
}